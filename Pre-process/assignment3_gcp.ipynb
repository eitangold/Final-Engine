{
 "cells": [
  {
   "cell_type": "markdown",
   "id": "a00e032c",
   "metadata": {
    "id": "hWgiQS0zkWJ5"
   },
   "source": [
    "***Important*** DO NOT CLEAR THE OUTPUT OF THIS NOTEBOOK AFTER EXECUTION!!!"
   ]
  },
  {
   "cell_type": "code",
   "execution_count": 3,
   "id": "5ac36d3a",
   "metadata": {
    "id": "c0ccf76b",
    "nbgrader": {
     "grade": false,
     "grade_id": "cell-Worker_Count",
     "locked": true,
     "schema_version": 3,
     "solution": false,
     "task": false
    },
    "outputId": "cf88b954-f39a-412a-d87e-660833e735b6"
   },
   "outputs": [
    {
     "name": "stdout",
     "output_type": "stream",
     "text": [
      "NAME          PLATFORM  WORKER_COUNT  PREEMPTIBLE_WORKER_COUNT  STATUS   ZONE           SCHEDULED_DELETE\r\n",
      "cluster-1937  GCE       4                                       RUNNING  us-central1-a\r\n"
     ]
    }
   ],
   "source": [
    "# if the following command generates an error, you probably didn't enable \n",
    "# the cluster security option \"Allow API access to all Google Cloud services\"\n",
    "# under Manage Security → Project Access when setting up the cluster\n",
    "!gcloud dataproc clusters list --region us-central1"
   ]
  },
  {
   "cell_type": "markdown",
   "id": "51cf86c5",
   "metadata": {
    "id": "01ec9fd3"
   },
   "source": [
    "# Imports & Setup"
   ]
  },
  {
   "cell_type": "code",
   "execution_count": 4,
   "id": "bf199e6a",
   "metadata": {
    "id": "32b3ec57",
    "nbgrader": {
     "grade": false,
     "grade_id": "cell-Setup",
     "locked": true,
     "schema_version": 3,
     "solution": false,
     "task": false
    },
    "outputId": "fc0e315d-21e9-411d-d69c-5b97e4e5d629"
   },
   "outputs": [
    {
     "name": "stdout",
     "output_type": "stream",
     "text": [
      "\u001b[33mWARNING: Running pip as the 'root' user can result in broken permissions and conflicting behaviour with the system package manager. It is recommended to use a virtual environment instead: https://pip.pypa.io/warnings/venv\u001b[0m\u001b[33m\n",
      "\u001b[0m\u001b[33mWARNING: Running pip as the 'root' user can result in broken permissions and conflicting behaviour with the system package manager. It is recommended to use a virtual environment instead: https://pip.pypa.io/warnings/venv\u001b[0m\u001b[33m\n",
      "\u001b[0m"
     ]
    }
   ],
   "source": [
    "!pip install -q google-cloud-storage==1.43.0\n",
    "!pip install -q graphframes"
   ]
  },
  {
   "cell_type": "code",
   "execution_count": null,
   "id": "95c7cbbc",
   "metadata": {},
   "outputs": [],
   "source": [
    "!touch log.txt\n",
    "import logging\n",
    "logging.basicConfig(level=logging.DEBUG,\n",
    "                    filename='log.txt',\n",
    "                    filemode='w',\n",
    "                    format='%(asctime)s - %(name)s - %(levelname)s - %(message)s',\n",
    "                    force=True)\n",
    "logger = logging.getLogger(__name__)"
   ]
  },
  {
   "cell_type": "code",
   "execution_count": 5,
   "id": "d8f56ecd",
   "metadata": {
    "id": "5609143b",
    "nbgrader": {
     "grade": false,
     "grade_id": "cell-Imports",
     "locked": true,
     "schema_version": 3,
     "solution": false,
     "task": false
    },
    "outputId": "a24aa24b-aa75-4823-83ca-1d7deef0f0de"
   },
   "outputs": [
    {
     "name": "stderr",
     "output_type": "stream",
     "text": [
      "[nltk_data] Downloading package stopwords to /root/nltk_data...\n",
      "[nltk_data]   Unzipping corpora/stopwords.zip.\n"
     ]
    },
    {
     "data": {
      "text/plain": [
       "True"
      ]
     },
     "execution_count": 5,
     "metadata": {},
     "output_type": "execute_result"
    }
   ],
   "source": [
    "import pyspark\n",
    "import sys\n",
    "from collections import Counter, OrderedDict, defaultdict\n",
    "import itertools\n",
    "from itertools import islice, count, groupby\n",
    "import pandas as pd\n",
    "import os\n",
    "import re\n",
    "from operator import itemgetter\n",
    "import nltk\n",
    "from nltk.stem.porter import *\n",
    "from nltk.corpus import stopwords\n",
    "from time import time\n",
    "from pathlib import Path\n",
    "import pickle\n",
    "import pandas as pd\n",
    "from google.cloud import storage\n",
    "from timeit import timeit\n",
    "import numpy as np\n",
    "import json\n",
    "import hashlib\n",
    "def _hash(s):\n",
    "    return hashlib.blake2b(bytes(s, encoding='utf8'), digest_size=5).hexdigest()\n",
    "\n",
    "nltk.download('stopwords')"
   ]
  },
  {
   "cell_type": "code",
   "execution_count": 6,
   "id": "38a897f2",
   "metadata": {
    "id": "b10cc999",
    "nbgrader": {
     "grade": false,
     "grade_id": "cell-jar",
     "locked": true,
     "schema_version": 3,
     "solution": false,
     "task": false
    },
    "outputId": "8f93a7ec-71e0-49c1-fc81-9af385849a90"
   },
   "outputs": [
    {
     "name": "stdout",
     "output_type": "stream",
     "text": [
      "-rw-r--r-- 1 root root 247882 Jan  1 15:43 /usr/lib/spark/jars/graphframes-0.8.2-spark3.1-s_2.12.jar\r\n"
     ]
    }
   ],
   "source": [
    "# if nothing prints here you forgot to include the initialization script when starting the cluster\n",
    "!ls -l /usr/lib/spark/jars/graph*"
   ]
  },
  {
   "cell_type": "code",
   "execution_count": 10,
   "id": "6ecfa797",
   "metadata": {},
   "outputs": [
    {
     "ename": "ModuleNotFoundError",
     "evalue": "No module named 'factory'",
     "output_type": "error",
     "traceback": [
      "\u001b[0;31m---------------------------------------------------------------------------\u001b[0m",
      "\u001b[0;31mModuleNotFoundError\u001b[0m                       Traceback (most recent call last)",
      "Cell \u001b[0;32mIn[10], line 1\u001b[0m\n\u001b[0;32m----> 1\u001b[0m \u001b[38;5;28;01mfrom\u001b[39;00m \u001b[38;5;21;01mfactory\u001b[39;00m \u001b[38;5;28;01mimport\u001b[39;00m \u001b[38;5;241m*\u001b[39m\n\u001b[1;32m      2\u001b[0m \u001b[38;5;28;01mfrom\u001b[39;00m \u001b[38;5;21;01mInvertedindex\u001b[39;00m \u001b[38;5;28;01mimport\u001b[39;00m \u001b[38;5;241m*\u001b[39m\n",
      "\u001b[0;31mModuleNotFoundError\u001b[0m: No module named 'factory'"
     ]
    }
   ],
   "source": []
  },
  {
   "cell_type": "code",
   "execution_count": 8,
   "id": "47900073",
   "metadata": {
    "id": "d3f86f11",
    "nbgrader": {
     "grade": false,
     "grade_id": "cell-pyspark-import",
     "locked": true,
     "schema_version": 3,
     "solution": false,
     "task": false
    }
   },
   "outputs": [],
   "source": [
    "from pyspark.sql import *\n",
    "from pyspark.sql.functions import *\n",
    "from pyspark import SparkContext, SparkConf, SparkFiles\n",
    "from pyspark.sql import SQLContext\n",
    "from graphframes import *"
   ]
  },
  {
   "cell_type": "code",
   "execution_count": 9,
   "id": "72bed56b",
   "metadata": {
    "id": "5be6dc2a",
    "nbgrader": {
     "grade": false,
     "grade_id": "cell-spark-version",
     "locked": true,
     "schema_version": 3,
     "solution": false,
     "task": false
    },
    "outputId": "07b4e22b-a252-42fb-fe46-d9050e4e7ca8",
    "scrolled": true
   },
   "outputs": [
    {
     "data": {
      "text/html": [
       "\n",
       "            <div>\n",
       "                <p><b>SparkSession - hive</b></p>\n",
       "                \n",
       "        <div>\n",
       "            <p><b>SparkContext</b></p>\n",
       "\n",
       "            <p><a href=\"http://cluster-1937-m.c.ir-2022-my.internal:40633\">Spark UI</a></p>\n",
       "\n",
       "            <dl>\n",
       "              <dt>Version</dt>\n",
       "                <dd><code>v3.1.3</code></dd>\n",
       "              <dt>Master</dt>\n",
       "                <dd><code>yarn</code></dd>\n",
       "              <dt>AppName</dt>\n",
       "                <dd><code>PySparkShell</code></dd>\n",
       "            </dl>\n",
       "        </div>\n",
       "        \n",
       "            </div>\n",
       "        "
      ],
      "text/plain": [
       "<pyspark.sql.session.SparkSession at 0x7f2b355bf550>"
      ]
     },
     "execution_count": 9,
     "metadata": {},
     "output_type": "execute_result"
    }
   ],
   "source": [
    "spark"
   ]
  },
  {
   "cell_type": "code",
   "execution_count": 13,
   "id": "980e62a5",
   "metadata": {
    "id": "7adc1bf5",
    "nbgrader": {
     "grade": false,
     "grade_id": "cell-bucket_name",
     "locked": false,
     "schema_version": 3,
     "solution": true,
     "task": false
    }
   },
   "outputs": [],
   "source": [
    "# Put your bucket name below and make sure you can access it without an error\n",
    "bucket_name = '209100783-ir-project' \n",
    "full_path = f\"gs://{bucket_name}/\"\n",
    "paths=[]\n",
    "\n",
    "client = storage.Client()\n",
    "blobs = client.list_blobs(bucket_name)\n",
    "for b in blobs:\n",
    "    if b.name != 'graphframes.sh':\n",
    "        paths.append(full_path+b.name)"
   ]
  },
  {
   "cell_type": "markdown",
   "id": "cac891c2",
   "metadata": {
    "id": "13ZX4ervQkku"
   },
   "source": [
    "***GCP setup is complete!*** If you got here without any errors you've earned 10 out of the 35 points of this part."
   ]
  },
  {
   "cell_type": "markdown",
   "id": "582c3f5e",
   "metadata": {
    "id": "c0b0f215"
   },
   "source": [
    "# Building an inverted index"
   ]
  },
  {
   "cell_type": "markdown",
   "id": "481f2044",
   "metadata": {
    "id": "02f81c72"
   },
   "source": [
    "Here, we read the entire corpus to an rdd, directly from Google Storage Bucket and use your code from Colab to construct an inverted index."
   ]
  },
  {
   "cell_type": "code",
   "execution_count": 14,
   "id": "e4c523e7",
   "metadata": {
    "id": "b1af29c9",
    "scrolled": false
   },
   "outputs": [
    {
     "name": "stderr",
     "output_type": "stream",
     "text": [
      "                                                                                \r"
     ]
    }
   ],
   "source": [
    "parquetFile = spark.read.parquet(*paths)\n"
   ]
  },
  {
   "cell_type": "code",
   "execution_count": 16,
   "id": "3ddbe2af",
   "metadata": {},
   "outputs": [],
   "source": [
    "doc_text_pairs = parquetFile.select(\"text\", \"id\").rdd"
   ]
  },
  {
   "cell_type": "markdown",
   "id": "0d7e2971",
   "metadata": {
    "id": "f6375562"
   },
   "source": [
    "We will count the number of pages to make sure we are looking at the entire corpus. The number of pages should be more than 6M"
   ]
  },
  {
   "cell_type": "code",
   "execution_count": 17,
   "id": "82881fbf",
   "metadata": {
    "id": "d89a7a9a"
   },
   "outputs": [
    {
     "name": "stderr",
     "output_type": "stream",
     "text": [
      "                                                                                \r"
     ]
    },
    {
     "data": {
      "text/plain": [
       "6348910"
      ]
     },
     "execution_count": 17,
     "metadata": {},
     "output_type": "execute_result"
    }
   ],
   "source": [
    "# Count number of wiki pages\n",
    "parquetFile.count()"
   ]
  },
  {
   "cell_type": "markdown",
   "id": "701811af",
   "metadata": {
    "id": "gaaIoFViXyTg"
   },
   "source": [
    "Let's import the inverted index module. Note that you need to use the staff-provided version called `inverted_index_gcp.py`, which contains helper functions to writing and reading the posting files similar to the Colab version, but with writing done to a Google Cloud Storage bucket."
   ]
  },
  {
   "cell_type": "code",
   "execution_count": 18,
   "id": "121fe102",
   "metadata": {
    "id": "04371c88",
    "outputId": "327fe81b-80f4-4b3a-8894-e74720d92e35"
   },
   "outputs": [
    {
     "name": "stdout",
     "output_type": "stream",
     "text": [
      "Config.json  Invertedindex.py  assignment3_gcp.ipynb  factory.py\r\n"
     ]
    }
   ],
   "source": [
    "# if nothing prints here you forgot to upload the file inverted_index_gcp.py to the home dir\n",
    "%cd -q /home/dataproc\n",
    "!ls "
   ]
  },
  {
   "cell_type": "code",
   "execution_count": 19,
   "id": "57c101a8",
   "metadata": {
    "id": "2d3285d8",
    "scrolled": true
   },
   "outputs": [],
   "source": [
    "# adding our python module to the cluster\n",
    "sc.addFile(\"/home/dataproc/Config.json\")\n",
    "sc.addFile(\"/home/dataproc/Invertedindex.py\")\n",
    "sc.addFile(\"/home/dataproc/factory.py\")\n",
    "\n",
    "sys.path.insert(0,SparkFiles.getRootDirectory())"
   ]
  },
  {
   "cell_type": "code",
   "execution_count": 20,
   "id": "c259c402",
   "metadata": {
    "id": "2477a5b9"
   },
   "outputs": [],
   "source": [
    "from factory import *\n",
    "from Invertedindex import *"
   ]
  },
  {
   "cell_type": "code",
   "execution_count": 21,
   "id": "637058c9",
   "metadata": {},
   "outputs": [
    {
     "name": "stdout",
     "output_type": "stream",
     "text": [
      "{'comments': {'type_stemmer_comment': 'the type of stemmer maybe [porter,snowball,...]', 'type_index_comment': 'the type of index maybe [text,anchor_text,title]', 'type_tokenizer_comment': 'the type of tokenizer maybe [python,spacy,regex(self),regex(web)]', 'type_similarity_function_comment': 'the type of similarity_function maybe [fastcosine,cosine (reut),spacy,numpy,....]', 'TF_MASK': '2 ** 16 - 1 # Masking the 16 low bits of an integer'}, 'index_configuration': {'BLOCK_SIZE': 1999998, 'TUPLE_SIZE': 6, 'TF_MASK': 65535, 'NUM_BUCKETS': 124, 'tokenizer': 'regex', 'stemmer': ['porter', 'snowball', 'regular'], 'type_of_index': ['text', 'title', 'anchor']}, 'project_configuration': {'project_id': 'ir-2022-my', 'bucket_name': '209100783-ir-project', 'bucket_to_upload': 'testing-bucketing', 'file_to_download': 'multistream10_preprocessed.parquet'}}\n"
     ]
    }
   ],
   "source": [
    "import json\n",
    "with open(\"Config.json\",\"r\") as file_config:\n",
    "    config_dict = json.load(file_config)\n",
    "    index_config = config_dict['index_configuration']\n",
    "    proj_config = config_dict['project_configuration']\n",
    "    print(config_dict)"
   ]
  },
  {
   "cell_type": "code",
   "execution_count": 26,
   "id": "0b70f345",
   "metadata": {},
   "outputs": [],
   "source": [
    "Tok = FactoryIndex.get_tokenizer(index_config['tokenizer'])\n",
    "english_stopwords = frozenset(stopwords.words('english'))\n",
    "corpus_stopwords = [\"category\", \"references\", \"also\", \"external\", \"links\", \n",
    "                    \"may\", \"first\", \"see\", \"history\", \"people\", \"one\", \"two\", \n",
    "                    \"part\", \"thumb\", \"including\", \"second\", \"following\", \n",
    "                    \"many\", \"however\", \"would\", \"became\"]\n",
    "\n",
    "all_stopwords = english_stopwords.union(corpus_stopwords)\n",
    "\n",
    "NUM_BUCKETS = index_config['NUM_BUCKETS']\n",
    "\n",
    "def token2bucket_id(token):\n",
    "  return int(_hash(token),16) % NUM_BUCKETS\n",
    "stemmering = None\n",
    "global_doc_size = {}"
   ]
  },
  {
   "cell_type": "code",
   "execution_count": 27,
   "id": "09b77ada",
   "metadata": {},
   "outputs": [
    {
     "name": "stdout",
     "output_type": "stream",
     "text": [
      "<factory.TokenizerInterface object at 0x7f2ae84298e0>\n"
     ]
    }
   ],
   "source": [
    "print(Tok)"
   ]
  },
  {
   "cell_type": "markdown",
   "id": "5540c727",
   "metadata": {
    "id": "72bcf46a"
   },
   "source": []
  },
  {
   "cell_type": "code",
   "execution_count": 28,
   "id": "f3ad8fea",
   "metadata": {
    "id": "a4b6ee29",
    "nbgrader": {
     "grade": false,
     "grade_id": "cell-token2bucket",
     "locked": false,
     "schema_version": 3,
     "solution": true,
     "task": false
    }
   },
   "outputs": [],
   "source": [
    "# PLACE YOUR CODE HERE\n",
    "def word_count(text, id,stemmer=None,idx_type=None):\n",
    "  if stemmer is not None:\n",
    "      logger.critical(\"this is stemmer\")\n",
    "      tokens = [stemmer.stem(token.group()) for token in Tok.tokenize(text.lower()) if token.group() not in all_stopwords]\n",
    "  else:\n",
    "      logger.critical(\"this is no stemmer\")\n",
    "      tokens = [token.group() for token in Tok.tokenize(text.lower()) if token.group() not in all_stopwords]\n",
    "\n",
    "  token_countr = Counter(tokens)\n",
    "  #calculating the vec size of the document\n",
    "  if idx_type == 'text':\n",
    "    global_doc_size[id] = np.linalg.norm(np.array(list(token_countr.values())))\n",
    "\n",
    "  \n",
    "  return [(word,(id,tf)) for word,tf in token_countr.items()]\n",
    "\n",
    "def doc_to_count(text, id,stemmer=None,idx_type=None):\n",
    "    if stemmer is not None:\n",
    "        logger.critical(\"this is stemmer\")\n",
    "        tokens = [stemmer.stem(token.group()) for token in Tok.tokenize(text.lower()) if token.group() not in all_stopwords]\n",
    "    else:\n",
    "        logger.critical(\"this is no stemmer\")\n",
    "        tokens = [token.group() for token in Tok.tokenize(text.lower()) if token.group() not in all_stopwords]\n",
    "\n",
    "    token_countr = Counter(tokens)\n",
    "  \n",
    "    doc_size = np.linalg.norm(np.array(list(token_countr.values())))\n",
    "    doc_len = len(token_countr.values())\n",
    "\n",
    "    \n",
    "    return id,(np.round(doc_size,4),doc_len)\n"
   ]
  },
  {
   "cell_type": "code",
   "execution_count": 29,
   "id": "ea89eb4d",
   "metadata": {},
   "outputs": [],
   "source": [
    "def reduce_word_counts(unsorted_pl,thr_len_pl, idx_type):\n",
    " \n",
    "#   if idx_type == 'text':\n",
    "#     if len(unsorted_pl) < thr_len_pl:\n",
    "#       logger.critical(f\"list less then 50\")\n",
    "#       return []\n",
    "      \n",
    "  return sorted(unsorted_pl,key=lambda tup: tup[1],reverse=True)\n"
   ]
  },
  {
   "cell_type": "code",
   "execution_count": 30,
   "id": "7a045dd3",
   "metadata": {},
   "outputs": [],
   "source": [
    "def partition_postings_and_write(postings,bucket_name,stem,index_type):\n",
    "\n",
    "  rdd2 = postings.groupBy(lambda word: token2bucket_id(word[0])).map(lambda x : InvertedIndex.write_a_posting_list((x[0],x[1]),bucket_name,stem,index_type))\n",
    "  return rdd2"
   ]
  },
  {
   "cell_type": "code",
   "execution_count": 31,
   "id": "469c75a3",
   "metadata": {},
   "outputs": [],
   "source": [
    "def preprocess_data(index_type,stem,bucket_name,path,index_name_file,w2df_file_name,doc_statistics,stemmering):\n",
    "  client = storage.Client()\n",
    "  t_start = time()\n",
    "  if index_type == 'text':\n",
    "    doc_to_len = doc_text_pairs.map(lambda x:doc_to_count(x[0],x[1],stemmering,index_type)).collectAsMap()\n",
    "    avg_tot_len = __builtins__.sum(map(lambda x: x[1],doc_to_len.values()))/len(doc_to_len.keys())\n",
    "    doc_to_len[\"AVG_DOC_LEN\"] = avg_tot_len\n",
    "    with open(doc_statistics,'wb') as f:\n",
    "      pickle.dump(doc_to_len,f)\n",
    "      bucket = client.bucket(bucket_name)\n",
    "      blob_posting_locs = bucket.blob(f\"postings_gcp/{path}{doc_statistics}\")\n",
    "      blob_posting_locs.upload_from_filename(f\"{doc_statistics}\")\n",
    "      del doc_to_len\n",
    "\n",
    "  word_counts = doc_text_pairs.flatMap(lambda x: word_count(x[0],x[1],stemmering,index_type))\n",
    "  postings = word_counts.groupByKey().mapValues(lambda x :reduce_word_counts(x,0, index_type))\n",
    "\n",
    "\n",
    "#   postings_filtered = postings.filter(lambda x: len(x[1])>0)\n",
    "\n",
    "  w2df = postings.mapValues(lambda key: len(key))\n",
    "  w2df_dict = w2df.collectAsMap()\n",
    "  \n",
    "  with open(w2df_file_name,'wb') as f:\n",
    "      pickle.dump(w2df_dict,f)\n",
    "      bucket = client.bucket(bucket_name)\n",
    "      blob_posting_locs = bucket.blob(f\"postings_gcp/{path}{w2df_file_name}\")\n",
    "      blob_posting_locs.upload_from_filename(f\"{w2df_file_name}\")\n",
    "      del w2df_dict\n",
    "  _ = partition_postings_and_write(postings_filtered,'testing-bucketing',stem,index_type).collect()\n",
    "  print(time()-t_start)\n",
    "  #-------------------------------------\n",
    "  \n"
   ]
  },
  {
   "cell_type": "code",
   "execution_count": 32,
   "id": "392f436a",
   "metadata": {},
   "outputs": [],
   "source": [
    "def create_inverted_index(path,index_name_file,w2df_file_name,doc_statistics):\n",
    "  inverted = InvertedIndex()\n",
    "  \n",
    "\n",
    "  with open(w2df_file_name,'rb') as f:\n",
    "    w2df_dict = pickle.load(f)\n",
    "    inverted.df = w2df_dict\n",
    "  with open(doc_statistics,'rb') as f:\n",
    "    doc_stat = pickle.load(f)\n",
    "    inverted.global_doc_size = doc_stat\n",
    "\n",
    "\n",
    "  \n",
    "\n",
    "  super_posting_locs = defaultdict(list)\n",
    "  for blob in client.list_blobs('testing-bucketing', prefix=f'postings_gcp/{path}'):\n",
    "    if not blob.name.endswith(\"pickle\"):\n",
    "      continue\n",
    "    with blob.open(\"rb\") as f:\n",
    "      posting_locs = pickle.load(f)\n",
    "      \n",
    "      for k, v in posting_locs.items():\n",
    "        # todo change to super_posting_locs[k] = v\n",
    "        super_posting_locs[k].extend(v)\n",
    "\n",
    "  inverted.posting_locs = super_posting_locs\n",
    "\n",
    "  # write the global stats out\n",
    "  inverted.write_index('.', index_name_file,'testing-bucketing',path)\n"
   ]
  },
  {
   "cell_type": "code",
   "execution_count": null,
   "id": "512f4baf",
   "metadata": {},
   "outputs": [
    {
     "name": "stdout",
     "output_type": "stream",
     "text": [
      "regular\n"
     ]
    },
    {
     "name": "stderr",
     "output_type": "stream",
     "text": [
      "this is creating the inverted index                                             \n"
     ]
    },
    {
     "name": "stdout",
     "output_type": "stream",
     "text": [
      "7667.524652957916\n"
     ]
    }
   ],
   "source": [
    "\n",
    "index_type = 'text'\n",
    "stem = \"regular\"\n",
    "print(stem)\n",
    "if stem == 'regular':\n",
    "    stemmering = None\n",
    "else:\n",
    "    stemmering = FactoryIndex.get_stemmer(stem)\n",
    "client = storage.Client()\n",
    "bucket_name = 'testing-bucketing'\n",
    "path = f\"{stem}-index/{index_type}-index/\"\n",
    "index_name_file = f'{stem}_{index_type}_index'\n",
    "w2df_file_name = f\"{stem}_{index_type}_w2df_statistics.stat\"\n",
    "doc_statistics = f\"{stem}_{index_type}_doc_statistics.stat\"\n",
    "###############################################\n",
    "preprocess_data(index_type,stem,bucket_name,path,index_name_file,w2df_file_name,doc_statistics,stemmering)\n",
    "###############################################\n",
    "create_inverted_index(path,index_name_file,w2df_file_name,doc_statistics)\n",
    "###############################################\n",
    "\n",
    "\n"
   ]
  },
  {
   "cell_type": "code",
   "execution_count": 40,
   "id": "282a3ebc",
   "metadata": {},
   "outputs": [
    {
     "name": "stdout",
     "output_type": "stream",
     "text": [
      "/home\n",
      "dataproc\r\n"
     ]
    }
   ],
   "source": [
    "\n",
    "index_type = 'text'\n",
    "stem = \"snowball\"\n",
    "print(stem)\n",
    "if stem == 'regular':\n",
    "    stemmering = None\n",
    "else:\n",
    "    stemmering = FactoryIndex.get_stemmer(stem)\n",
    "client = storage.Client()\n",
    "bucket_name = 'testing-bucketing'\n",
    "path = f\"{stem}-index/{index_type}-index/\"\n",
    "index_name_file = f'{stem}_{index_type}_index'\n",
    "w2df_file_name = f\"{stem}_{index_type}_w2df_statistics.stat\"\n",
    "doc_statistics = f\"{stem}_{index_type}_doc_statistics.stat\"\n",
    "###############################################\n",
    "preprocess_data(index_type,stem,bucket_name,path,index_name_file,w2df_file_name,doc_statistics,stemmering)\n",
    "###############################################\n",
    "create_inverted_index(path,index_name_file,w2df_file_name,doc_statistics)\n",
    "###############################################\n",
    "\n",
    "\n",
    "\n"
   ]
  },
  {
   "cell_type": "code",
   "execution_count": null,
   "id": "4687b12a",
   "metadata": {},
   "outputs": [],
   "source": [
    "\n",
    "index_type = 'text'\n",
    "stem = \"porter\"\n",
    "print(stem)\n",
    "if stem == 'regular':\n",
    "    stemmering = None\n",
    "else:\n",
    "    stemmering = FactoryIndex.get_stemmer(stem)\n",
    "client = storage.Client()\n",
    "bucket_name = 'testing-bucketing'\n",
    "path = f\"{stem}-index/{index_type}-index/\"\n",
    "index_name_file = f'{stem}_{index_type}_index'\n",
    "w2df_file_name = f\"{stem}_{index_type}_w2df_statistics.stat\"\n",
    "doc_statistics = f\"{stem}_{index_type}_doc_statistics.stat\"\n",
    "###############################################\n",
    "preprocess_data(index_type,stem,bucket_name,path,index_name_file,w2df_file_name,doc_statistics,stemmering)\n",
    "###############################################\n",
    "create_inverted_index(path,index_name_file,w2df_file_name,doc_statistics)\n",
    "###############################################\n",
    "\n",
    "\n"
   ]
  },
  {
   "cell_type": "code",
   "execution_count": 34,
   "id": "e99ff01a",
   "metadata": {},
   "outputs": [
    {
     "name": "stderr",
     "output_type": "stream",
     "text": [
      "this is creating the inverted index\n"
     ]
    }
   ],
   "source": [
    "new_index = InvertedIndex().read_index('.',index_name_file)\n"
   ]
  },
  {
   "cell_type": "code",
   "execution_count": null,
   "id": "548f43b5",
   "metadata": {},
   "outputs": [],
   "source": [
    "# for idx,i in enumerate(new_index.global_doc_size.items()):\n",
    "#     print(i)\n",
    "#     if idx >= 1000:\n",
    "#         break\n"
   ]
  },
  {
   "cell_type": "code",
   "execution_count": null,
   "id": "55c8764e",
   "metadata": {
    "id": "0b5d7296",
    "nbgrader": {
     "grade": false,
     "grade_id": "cell-index_construction",
     "locked": false,
     "schema_version": 3,
     "solution": true,
     "task": false
    }
   },
   "outputs": [],
   "source": [
    "# time the index creation time\n",
    "t_start = time()\n",
    "# word counts map\n",
    "word_counts = doc_text_pairs.flatMap(lambda x: word_count(x[0], x[1]))\n",
    "postings = word_counts.groupByKey().mapValues(reduce_word_counts)\n",
    "# filtering postings and calculate df\n",
    "postings_filtered = postings.filter(lambda x: len(x[1])>50)\n",
    "w2df = calculate_df(postings_filtered)\n",
    "w2df_dict = w2df.collectAsMap()\n",
    "# partition posting lists and write out\n",
    "_ = partition_postings_and_write(postings_filtered).collect()\n",
    "index_const_time = time() - t_start"
   ]
  },
  {
   "cell_type": "code",
   "execution_count": null,
   "id": "3dbc0e14",
   "metadata": {
    "id": "348pECY8cH-T",
    "nbgrader": {
     "grade": true,
     "grade_id": "cell-index_const_time",
     "locked": true,
     "points": 10,
     "schema_version": 3,
     "solution": false,
     "task": false
    }
   },
   "outputs": [],
   "source": [
    "# test index construction time\n",
    "assert index_const_time < 60*120"
   ]
  },
  {
   "cell_type": "code",
   "execution_count": null,
   "id": "ab3296f4",
   "metadata": {
    "id": "Opl6eRNLM5Xv",
    "nbgrader": {
     "grade": true,
     "grade_id": "collect-posting",
     "locked": true,
     "points": 0,
     "schema_version": 3,
     "solution": false,
     "task": false
    }
   },
   "outputs": [],
   "source": [
    "# collect all posting lists locations into one super-set\n",
    "super_posting_locs = defaultdict(list)\n",
    "for blob in client.list_blobs(bucket_name, prefix='postings_gcp'):\n",
    "  if not blob.name.endswith(\"pickle\"):\n",
    "    continue\n",
    "  with blob.open(\"rb\") as f:\n",
    "    posting_locs = pickle.load(f)\n",
    "    for k, v in posting_locs.items():\n",
    "      super_posting_locs[k].extend(v)"
   ]
  },
  {
   "cell_type": "markdown",
   "id": "f6f66e3a",
   "metadata": {
    "id": "VhAV0A6dNZWY"
   },
   "source": [
    "Putting it all together"
   ]
  },
  {
   "cell_type": "code",
   "execution_count": null,
   "id": "a5d2cfb6",
   "metadata": {
    "id": "54vqT_0WNc3w"
   },
   "outputs": [],
   "source": [
    "# Create inverted index instance\n",
    "inverted = InvertedIndex()\n",
    "# Adding the posting locations dictionary to the inverted index\n",
    "inverted.posting_locs = super_posting_locs\n",
    "# Add the token - df dictionary to the inverted index\n",
    "inverted.df = w2df_dict\n",
    "# write the global stats out\n",
    "inverted.write_index('.', 'index')\n",
    "# upload to gs\n",
    "index_src = \"index.pkl\"\n",
    "index_dst = f'gs://{bucket_name}/postings_gcp/{index_src}'\n",
    "!gsutil cp $index_src $index_dst"
   ]
  },
  {
   "cell_type": "code",
   "execution_count": null,
   "id": "8f880d59",
   "metadata": {
    "id": "msogGbJ3c8JF",
    "nbgrader": {
     "grade": false,
     "grade_id": "cell-index_dst_size",
     "locked": true,
     "schema_version": 3,
     "solution": false,
     "task": false
    }
   },
   "outputs": [],
   "source": [
    "!gsutil ls -lh $index_dst"
   ]
  },
  {
   "cell_type": "markdown",
   "id": "c52dee14",
   "metadata": {
    "id": "fc0667a9",
    "nbgrader": {
     "grade": false,
     "grade_id": "cell-2a6d655c112e79c5",
     "locked": true,
     "schema_version": 3,
     "solution": false,
     "task": false
    }
   },
   "source": [
    "# PageRank"
   ]
  },
  {
   "cell_type": "markdown",
   "id": "0875c6bd",
   "metadata": {
    "id": "fdd1bdca",
    "nbgrader": {
     "grade": false,
     "grade_id": "cell-2fee4bc8d83c1e2a",
     "locked": true,
     "schema_version": 3,
     "solution": false,
     "task": false
    }
   },
   "source": [
    "**YOUR TASK (10 POINTS):** Compute PageRank for the entire English Wikipedia. Use your implementation for `generate_graph` function from Colab below."
   ]
  },
  {
   "cell_type": "code",
   "execution_count": null,
   "id": "31a516e2",
   "metadata": {
    "id": "yVjnTvQsegc-"
   },
   "outputs": [],
   "source": [
    "# Put your `generate_graph` function here"
   ]
  },
  {
   "cell_type": "code",
   "execution_count": null,
   "id": "6bc05ba3",
   "metadata": {
    "id": "db005700",
    "nbgrader": {
     "grade": false,
     "grade_id": "cell-PageRank",
     "locked": false,
     "schema_version": 3,
     "solution": true,
     "task": false
    }
   },
   "outputs": [],
   "source": [
    "t_start = time()\n",
    "pages_links = spark.read.parquet(\"gs://wikidata_preprocessed/*\").select(\"id\", \"anchor_text\").rdd\n",
    "# construct the graph \n",
    "edges, vertices = generate_graph(pages_links)\n",
    "# compute PageRank\n",
    "edgesDF = edges.toDF(['src', 'dst']).repartition(124, 'src')\n",
    "verticesDF = vertices.toDF(['id']).repartition(124, 'id')\n",
    "g = GraphFrame(verticesDF, edgesDF)\n",
    "pr_results = g.pageRank(resetProbability=0.15, maxIter=6)\n",
    "pr = pr_results.vertices.select(\"id\", \"pagerank\")\n",
    "pr = pr.sort(col('pagerank').desc())\n",
    "pr.repartition(1).write.csv(f'gs://{bucket_name}/pr', compression=\"gzip\")\n",
    "pr_time = time() - t_start\n",
    "pr.show()"
   ]
  },
  {
   "cell_type": "code",
   "execution_count": null,
   "id": "f7717604",
   "metadata": {
    "id": "2cc36ca9",
    "nbgrader": {
     "grade": true,
     "grade_id": "cell-PageRank_time",
     "locked": true,
     "points": 10,
     "schema_version": 3,
     "solution": false,
     "task": false
    }
   },
   "outputs": [],
   "source": [
    "# test that PageRank computaion took less than 1 hour\n",
    "assert pr_time < 60*60"
   ]
  },
  {
   "cell_type": "markdown",
   "id": "96e9a610",
   "metadata": {
    "id": "7f39m5R5TzZ2"
   },
   "source": [
    "# Reporting"
   ]
  },
  {
   "cell_type": "markdown",
   "id": "a1da57c7",
   "metadata": {
    "id": "HDMJxXTFT4YU"
   },
   "source": [
    "**YOUR TASK (5 points):** execute and complete the following lines to complete \n",
    "the reporting requirements for assignment #3. "
   ]
  },
  {
   "cell_type": "code",
   "execution_count": null,
   "id": "0f0d5523",
   "metadata": {
    "id": "a0ec9661",
    "nbgrader": {
     "grade": false,
     "grade_id": "cell-size_ofi_input_data",
     "locked": true,
     "schema_version": 3,
     "solution": false,
     "task": false
    },
    "outputId": "54595c29-4ae3-4b78-86d0-d8457ae9c150"
   },
   "outputs": [
    {
     "name": "stdout",
     "output_type": "stream",
     "text": [
      "14.28 GiB    gs://wikidata_preprocessed\r\n"
     ]
    }
   ],
   "source": [
    "# size of input data\n",
    "!gsutil du -sh \"gs://wikidata_preprocessed/\""
   ]
  },
  {
   "cell_type": "code",
   "execution_count": null,
   "id": "ce25a98a",
   "metadata": {
    "id": "264e0792",
    "nbgrader": {
     "grade": false,
     "grade_id": "cell-size_of_index_data",
     "locked": true,
     "schema_version": 3,
     "solution": false,
     "task": false
    },
    "outputId": "44d9721a-1cd7-4e59-9f78-5439864cfdad"
   },
   "outputs": [
    {
     "name": "stdout",
     "output_type": "stream",
     "text": [
      "5.93 GiB     gs://sise_ir_assignment3/postings_gcp\r\n"
     ]
    }
   ],
   "source": [
    "# size of index data\n",
    "index_dst = f'gs://{bucket_name}/postings_gcp/'\n",
    "!gsutil du -sh \"$index_dst\""
   ]
  },
  {
   "cell_type": "code",
   "execution_count": null,
   "id": "7a9538ee",
   "metadata": {
    "id": "LQ7r5rxvVuXb",
    "nbgrader": {
     "grade": false,
     "grade_id": "cell-credits",
     "locked": true,
     "schema_version": 3,
     "solution": false,
     "task": false
    }
   },
   "outputs": [],
   "source": [
    "# How many USD credits did you use in GCP during the course of this assignment?\n",
    "cost = 0 \n",
    "print(f'I used {cost} USD credit during the course of this assignment')"
   ]
  },
  {
   "cell_type": "markdown",
   "id": "fb0e0ed8",
   "metadata": {
    "id": "fdd1bdca"
   },
   "source": [
    "**Bonus (10 points)** if you implement PageRank in pure PySpark, i.e. without using the GraphFrames package, AND manage to complete 10 iterations of your algorithm on the entire English Wikipedia in less than an hour. \n"
   ]
  },
  {
   "cell_type": "code",
   "execution_count": 20,
   "id": "b8157868",
   "metadata": {
    "nbgrader": {
     "grade": false,
     "grade_id": "cell-PageRank_Bonus",
     "locked": false,
     "schema_version": 3,
     "solution": true,
     "task": false
    }
   },
   "outputs": [],
   "source": [
    "#If you have decided to do the bonus task - please copy the code here \n",
    "\n",
    "bonus_flag = False # Turn flag on (True) if you have implemented this part\n",
    "\n",
    "t_start = time()\n",
    "\n",
    "# PLACE YOUR CODE HERE\n",
    "\n",
    "pr_time_Bonus = time() - t_start\n"
   ]
  },
  {
   "cell_type": "code",
   "execution_count": 21,
   "id": "855f9c94",
   "metadata": {
    "nbgrader": {
     "grade": true,
     "grade_id": "cell-PageRank_Bonus-time",
     "locked": true,
     "points": 10,
     "schema_version": 3,
     "solution": false,
     "task": false
    }
   },
   "outputs": [],
   "source": [
    "# Note:test that PageRank computaion took less than 1 hour\n",
    "assert pr_time_Bonus < 60*60 and bonus_flag"
   ]
  }
 ],
 "metadata": {
  "celltoolbar": "Create Assignment",
  "colab": {
   "collapsed_sections": [],
   "name": "assignment3_gcp.ipynb",
   "provenance": [],
   "toc_visible": true
  },
  "kernelspec": {
   "display_name": "Python 3",
   "language": "python",
   "name": "python3"
  },
  "language_info": {
   "codemirror_mode": {
    "name": "ipython",
    "version": 3
   },
   "file_extension": ".py",
   "mimetype": "text/x-python",
   "name": "python",
   "nbconvert_exporter": "python",
   "pygments_lexer": "ipython3",
   "version": "3.10.2 (tags/v3.10.2:a58ebcc, Jan 17 2022, 14:12:15) [MSC v.1929 64 bit (AMD64)]"
  },
  "vscode": {
   "interpreter": {
    "hash": "26de051ba29f2982a8de78e945f0abaf191376122a1563185a90213a26c5da77"
   }
  }
 },
 "nbformat": 4,
 "nbformat_minor": 5
}
